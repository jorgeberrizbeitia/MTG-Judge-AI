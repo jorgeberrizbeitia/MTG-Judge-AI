{
 "cells": [
  {
   "cell_type": "markdown",
   "id": "0f40982b",
   "metadata": {},
   "source": [
    "MTG Judge RAG\n",
    "---------------------------------------------------\n",
    "This is a simple Python script for building an AI-powered MTG rules assistant\n",
    "using Retrieval-Augmented Generation (RAG) with OpenAI + FAISS.\n",
    "\n",
    "- Loads the Comprehensive Rules from a text file.\n",
    "- Splits rules into chunks.\n",
    "- Creates embeddings with OpenAI.\n",
    "- Stores them in ChromaDB for fast search (not using FAISS due to py versioning)\n",
    "- Lets you ask questions, retrieves relevant rules, and asks the LLM to answer."
   ]
  },
  {
   "cell_type": "code",
   "execution_count": 19,
   "id": "4fe92255",
   "metadata": {},
   "outputs": [
    {
     "data": {
      "text/plain": [
       "True"
      ]
     },
     "execution_count": 19,
     "metadata": {},
     "output_type": "execute_result"
    }
   ],
   "source": [
    "# -------- IMPORTS --------\n",
    "import os\n",
    "import re\n",
    "import json\n",
    "import chromadb\n",
    "\n",
    "from openai import OpenAI\n",
    "client = OpenAI()   # don’t pass api_key explicitly\n",
    "\n",
    "from dotenv import load_dotenv\n",
    "load_dotenv()"
   ]
  },
  {
   "cell_type": "code",
   "execution_count": 20,
   "id": "1f7039ee",
   "metadata": {},
   "outputs": [],
   "source": [
    "# -------- CONFIG --------\n",
    "OPENAI_API_KEY = os.getenv(\"OPENAI_API_KEY\")\n",
    "EMBED_MODEL = \"text-embedding-3-large\"\n",
    "CHAT_MODEL = \"gpt-4o-mini\"\n",
    "CHROMA_DB_DIR = \"./chroma_db\"\n",
    "os.makedirs(CHROMA_DB_DIR, exist_ok=True) # to create folder if it doesn't exist\n",
    "RULES_FILE = \"./comprehensive-rules.txt\"\n",
    "CARDS_FILE = \"./clean-standard-cards.json\"\n",
    "CHUNK_SIZE = 700 # words approximation\n",
    "TOP_K = 6"
   ]
  },
  {
   "cell_type": "code",
   "execution_count": 21,
   "id": "baf4fd8c",
   "metadata": {},
   "outputs": [],
   "source": [
    "# -------- HELPER LOAD RULES --------\n",
    "def load_rules(path):\n",
    "    \"\"\"Load the MTG comprehensive rules from a text file.\"\"\"\n",
    "    if not os.path.exists(path):\n",
    "        print(f\"Rules file not found at {path}\")\n",
    "        return []\n",
    "\n",
    "    docs = []\n",
    "    with open(path, \"r\", encoding=\"utf-8\", errors=\"ignore\") as f:\n",
    "        for line in f:\n",
    "            line = line.strip()\n",
    "            if not line:\n",
    "                continue\n",
    "            # Rules usually like: 603.1. Some text\n",
    "            match = re.match(r\"^(\\d{1,3}(?:\\.\\d+)+)\\s+(.*)$\", line)\n",
    "            if match:\n",
    "                rule_id, body = match.groups()\n",
    "                docs.append({\n",
    "                    \"id\": f\"CR:{rule_id}\",\n",
    "                    \"text\": f\"{rule_id} {body}\",\n",
    "                    \"rule_id\": rule_id,\n",
    "                    \"source\": \"Comprehensive Rules\"\n",
    "                })\n",
    "    return docs"
   ]
  },
  {
   "cell_type": "code",
   "execution_count": 22,
   "id": "cb4bbe6b",
   "metadata": {},
   "outputs": [],
   "source": [
    "# -------- HELPER LOAD CARDS --------\n",
    "def load_cards(path):\n",
    "    \"\"\"Load MTG card data from your JSON export.\"\"\"\n",
    "    if not os.path.exists(path):\n",
    "        print(f\"Card file not found at {path}\")\n",
    "        return []\n",
    "\n",
    "    import json\n",
    "    with open(path, \"r\", encoding=\"utf-8\") as f:\n",
    "        cards = json.load(f)\n",
    "\n",
    "    docs = []\n",
    "    for c in cards:\n",
    "        # Skip cards without names or text\n",
    "        if \"name\" not in c or not c.get(\"originalText\"):\n",
    "            continue\n",
    "\n",
    "        # Construct a searchable text block for embedding\n",
    "        text_parts = [\n",
    "            f\"Name: {c['name']}\",\n",
    "            f\"Mana Cost: {c.get('manaCost', '')}\",\n",
    "            f\"Types: {' '.join(c.get('types', []))}\",\n",
    "            f\"Subtypes: {' '.join(c.get('subtypes', []))}\",\n",
    "            f\"Abilities/Keywords: {', '.join(c.get('keywords', []))}\",\n",
    "            f\"Text: {c['originalText']}\"\n",
    "        ]\n",
    "\n",
    "        # Add rulings (big chunk but useful)\n",
    "        rulings = c.get(\"rulings\", [])\n",
    "        if rulings:\n",
    "            rulings_text = \" | \".join(r[\"text\"] for r in rulings if \"text\" in r)\n",
    "            text_parts.append(f\"Rulings: {rulings_text}\")\n",
    "\n",
    "        full_text = \"\\n\".join(text_parts)\n",
    "\n",
    "        docs.append({\n",
    "            \"id\": f\"CARD:{c['uuid']}\",   # use UUID for uniqueness\n",
    "            \"text\": full_text,\n",
    "            \"source\": \"Card Database\",\n",
    "            \"card_name\": c[\"name\"],\n",
    "            \"manaCost\": c.get(\"manaCost\", \"\"),\n",
    "            \"types\": \", \".join(c.get(\"types\", [])),       # FIXED: stringify list\n",
    "            \"subtypes\": \", \".join(c.get(\"subtypes\", [])), # FIXED: stringify list\n",
    "            \"keywords\": \", \".join(c.get(\"keywords\", [])), # FIXED: stringify list\n",
    "            \"rarity\": c.get(\"rarity\", \"\")\n",
    "        })\n",
    "\n",
    "    print(f\"Loaded {len(docs)} cards from {path}\")\n",
    "    return docs\n"
   ]
  },
  {
   "cell_type": "code",
   "execution_count": 23,
   "id": "e04fb8e1",
   "metadata": {},
   "outputs": [],
   "source": [
    "# -------- HELPER CHUNK TEXT --------\n",
    "def chunk_text(text, chunk_size=CHUNK_SIZE):\n",
    "    \"\"\"Split text into smaller chunks so embeddings don't get too big.\"\"\"\n",
    "    sentences = re.split(r'(?<=[.!?]) +', text)\n",
    "    chunks = []\n",
    "    current = []\n",
    "    length = 0\n",
    "\n",
    "    for s in sentences:\n",
    "        tokens = len(s.split())\n",
    "        if length + tokens > chunk_size:\n",
    "            chunks.append(\" \".join(current))\n",
    "            current = [s]\n",
    "            length = tokens\n",
    "        else:\n",
    "            current.append(s)\n",
    "            length += tokens\n",
    "    if current:\n",
    "        chunks.append(\" \".join(current))\n",
    "\n",
    "    return chunks"
   ]
  },
  {
   "cell_type": "code",
   "execution_count": 24,
   "id": "57272cb7",
   "metadata": {},
   "outputs": [],
   "source": [
    "# -------- HELPER BUILD INDEX --------\n",
    "def build_index():\n",
    "    \"\"\"Create ChromaDB collection from rules + card data.\"\"\"\n",
    "    client = OpenAI(api_key=OPENAI_API_KEY)\n",
    "\n",
    "    print(\"Loading rules...\")\n",
    "    rules = load_rules(RULES_FILE)\n",
    "\n",
    "    print(\"Loading cards...\")\n",
    "    cards = load_cards(CARDS_FILE)  # add this\n",
    "\n",
    "    all_docs = rules + cards  # merge datasets\n",
    "\n",
    "    texts, metas, ids = [], [], []\n",
    "\n",
    "    for d in all_docs:\n",
    "        chunks = chunk_text(d[\"text\"])\n",
    "        for i, ch in enumerate(chunks):\n",
    "            texts.append(ch)\n",
    "            metas.append(d)\n",
    "            ids.append(f\"{d['id']}_{i}\")\n",
    "\n",
    "    if not texts:\n",
    "        raise ValueError(\"No valid chunks found to embed.\")\n",
    "\n",
    "    print(f\"Total chunks: {len(texts)}\")\n",
    "\n",
    "    # Create embeddings\n",
    "    embeddings = client.embeddings.create(model=EMBED_MODEL, input=texts)\n",
    "    vecs = [d.embedding for d in embeddings.data]\n",
    "\n",
    "    # Initialize Chroma client\n",
    "    chroma_client = chromadb.PersistentClient(path=CHROMA_DB_DIR)\n",
    "\n",
    "    # Drop old collection (clean rebuild)\n",
    "    try:\n",
    "        chroma_client.delete_collection(\"mtg_data\")\n",
    "    except:\n",
    "        pass\n",
    "\n",
    "    collection = chroma_client.get_or_create_collection(name=\"mtg_data\")\n",
    "\n",
    "    # Add to Chroma\n",
    "    collection.add(\n",
    "        ids=ids,\n",
    "        embeddings=vecs,\n",
    "        documents=texts,\n",
    "        metadatas=metas\n",
    "    )\n",
    "\n",
    "    print(\"Index built and saved with ChromaDB!\")\n",
    "\n",
    "\n"
   ]
  },
  {
   "cell_type": "code",
   "execution_count": 25,
   "id": "94b43337",
   "metadata": {},
   "outputs": [],
   "source": [
    "# -------- HELPER SEARCH INDEX --------\n",
    "def search_index(query, top_k=TOP_K):\n",
    "    \"\"\"Search ChromaDB for relevant rule chunks.\"\"\"\n",
    "    query = query.strip()\n",
    "    if not query:\n",
    "        raise ValueError(\"Empty query provided.\")\n",
    "\n",
    "    client = OpenAI()\n",
    "    emb = client.embeddings.create(model=EMBED_MODEL, input=[query])\n",
    "    vec = emb.data[0].embedding\n",
    "\n",
    "    chroma_client = chromadb.PersistentClient(path=CHROMA_DB_DIR)\n",
    "    collection = chroma_client.get_or_create_collection(name=\"mtg_rules\")\n",
    "\n",
    "    results = collection.query(query_embeddings=[vec], n_results=top_k)\n",
    "\n",
    "    docs = []\n",
    "    for i, doc in enumerate(results[\"documents\"][0]):\n",
    "        docs.append({\n",
    "            \"text\": doc,\n",
    "            \"meta\": results[\"metadatas\"][0][i]\n",
    "        })\n",
    "    return docs"
   ]
  },
  {
   "cell_type": "code",
   "execution_count": 34,
   "id": "ee8b0133",
   "metadata": {},
   "outputs": [],
   "source": [
    "# -------- HELPER ANSWER QUESTION --------\n",
    "def answer_question(query):\n",
    "    \"\"\"Retrieve context and ask the LLM for an MTG answer (TLDR + Explanation + Sources).\"\"\"\n",
    "    results = search_index(query)\n",
    "    context_blocks = []\n",
    "\n",
    "    for i, r in enumerate(results, 1):\n",
    "        text = r[\"text\"]\n",
    "        meta = r[\"meta\"]\n",
    "        source = meta.get(\"source\", \"Unknown\")\n",
    "        context_blocks.append(f\"[{i}] ({source}) {text}\")\n",
    "\n",
    "    context = \"\\n\\n\".join(context_blocks)\n",
    "\n",
    "    user_prompt = f\"\"\"\n",
    "You are an expert Magic: The Gathering judge assistant.\n",
    "A user has a question about card interactions or rules.\n",
    "\n",
    "Question:\n",
    "{query}\n",
    "\n",
    "Use these sources (rules + card texts):\n",
    "{context}\n",
    "\n",
    "Answer format:\n",
    "1. **Question** - A short rephrasing of the user question.\n",
    "1. **Short Answer** – a very short and direct answer (1 sentense if possible).\n",
    "2. **Explanation** – detailed reasoning about interactions, order of operations, triggers and if other situations would change the outcome.\n",
    "3. **Sources** – cite specific rule numbers or card names from the context.\n",
    "\"\"\"\n",
    "\n",
    "    client = OpenAI(api_key=OPENAI_API_KEY)\n",
    "    resp = client.chat.completions.create(\n",
    "        model=CHAT_MODEL,\n",
    "        messages=[\n",
    "            {\"role\": \"system\", \"content\": \"You are a helpful MTG rules assistant. Always explain clearly.\"},\n",
    "            {\"role\": \"user\", \"content\": user_prompt}\n",
    "        ]\n",
    "    )\n",
    "    return resp.choices[0].message.content\n"
   ]
  },
  {
   "cell_type": "code",
   "execution_count": 27,
   "id": "07ad31bb",
   "metadata": {},
   "outputs": [
    {
     "name": "stdout",
     "output_type": "stream",
     "text": [
      "Loading rules...\n",
      "Loading cards...\n",
      "Loaded 90 cards from ./clean-standard-cards.json\n",
      "Total chunks: 91\n",
      "Index built and saved with ChromaDB!\n"
     ]
    }
   ],
   "source": [
    "# -------- BUILDING INDEX --------\n",
    "build_index()  # only first time"
   ]
  },
  {
   "cell_type": "code",
   "execution_count": 35,
   "id": "479cbdcb",
   "metadata": {},
   "outputs": [
    {
     "name": "stdout",
     "output_type": "stream",
     "text": [
      "1. **Question** - Does imprinting Time Walk on Panoptic Mirror grant me infinite turns?  \n",
      "2. **Short Answer** – No, you do not get infinite turns from imprinting Time Walk on Panoptic Mirror.  \n",
      "3. **Explanation** – Panoptic Mirror allows you to copy a spell you have imprinted on it (in this case, Time Walk) and cast that copy for no cost during your upkeep. However, Time Walk only gives you an extra turn after the current one, and after you cast the imprinted Time Walk from the Mirror, it goes to exile again. You will need to pay its mana cost again to imprint and cast it a second time, which means you can only take one extra turn at a time, not infinite turns. You cannot repeatedly activate Panoptic Mirror without recurring the spell, which would require additional resources each time. Infinite turns would only be possible if you could continuously cast Time Walk without additional costs or conditions, which the Mirror does not facilitate.  \n",
      "4. **Sources** – Comprehensive Rules, specifically rule 113.4c regarding Time Walk: “Target player takes an extra turn after this one.” Also, Panoptic Mirror’s activation rules clarify that you have to cast the spell from the Mirror for it to work each time.\n"
     ]
    }
   ],
   "source": [
    "# -------- TESTING --------\n",
    "question = \"If I imprint Time Walk on Panoptic Mirror, do I get infinite turns?\"\n",
    "print(answer_question(question)) # right answer: YES, infinite turns"
   ]
  },
  {
   "cell_type": "code",
   "execution_count": 36,
   "id": "9ca4a432",
   "metadata": {},
   "outputs": [
    {
     "name": "stdout",
     "output_type": "stream",
     "text": [
      "1. **Question** - Does casting Bounce Off on my defending creature prevent the damage from an attacking 8/8 creature with trample?\n",
      "\n",
      "2. **Short Answer** – No, casting Bounce Off will not prevent the damage; you will still take damage from the attacking creature.\n",
      "\n",
      "3. **Explanation** – When an attacking creature with trample is blocked by a creature, it assigns enough damage to the blocker to satisfy lethal damage (in this case, that's 2 damage to the 2/2 blocker) before dealing any remaining damage to the defending player. However, if you cast Bounce Off on your 2/2 creature after it's been declared as a blocker, the attacking creature will already have assigned damage during the combat damage step before the 2/2 creature returns to your hand. The trample mechanic dictates that if the attacker assigns lethal damage to the blocker (which it will, even if it’s only there temporarily), any additional damage is dealt to the defending player. Since the creature is still there for the damage assignment, you will take the remaining damage from the attacking creature after the lethal damage requirement has been met.\n",
      "\n",
      "4. **Sources** – This explanation is supported by the comprehensive rules regarding combat damage assignment, specifically rules related to trample (most notably rule 510.1 for trample).\n"
     ]
    }
   ],
   "source": [
    "question = \"I am being attacked by an 8/8 creature with trample and I defend with a 2/2 creature. But before assigning damage, I play Bounce Off on the defending creature. Do I prevent the damage or will the attacking creature still deal damage to me?\"\n",
    "print(answer_question(question)) # right answer: Full damage is received because of trample."
   ]
  },
  {
   "cell_type": "code",
   "execution_count": 37,
   "id": "d930a43a",
   "metadata": {},
   "outputs": [
    {
     "name": "stdout",
     "output_type": "stream",
     "text": [
      "1. **Question** - If I use Bounce Off on my defending 2/2 creature during an attack, does that prevent the attacking 8/8 creature from dealing damage to me?\n",
      "\n",
      "2. **Short Answer** – No, using Bounce Off does not prevent the attacking creature from dealing damage to you.\n",
      "\n",
      "3. **Explanation** – When you are attacked by an 8/8 creature and you declare your 2/2 creature as a blocker, the combat damage step follows. If you cast **Bounce Off** on the 2/2 creature, it will be returned to your hand before combat damage is assigned. According to the rules of combat, once a creature is declared as a blocker and is then removed from the battlefield (in this case, by being bounced to your hand), the attack still goes through and damage is dealt to you. The rules specify that combat damage is assigned based on which creatures are still on the battlefield for that damage step, and since the defending creature is no longer there to absorb damage, the 8/8 creature will deal its full damage to you. \n",
      "\n",
      "4. **Sources** – Comprehensive Rules 506 (Combat Damage Step) explains how damage is assigned in combat, and 704.5j describes how creatures are removed from combat.\n"
     ]
    }
   ],
   "source": [
    "question = \"I am being attacked by an 8/8 creature and I defend with a 2/2 creature. But before assigning damage, I play Bounce Off on the defending creature. Do I prevent the damage or will the attacking creature still deal damage to me?\"\n",
    "print(answer_question(question)) # right answer: Damage is fully prevented because it doesn't have trample."
   ]
  },
  {
   "cell_type": "code",
   "execution_count": null,
   "id": "8d529cca",
   "metadata": {},
   "outputs": [
    {
     "name": "stdout",
     "output_type": "stream",
     "text": [
      "1. **TL;DR** – Yes, you can sacrifice one of the creatures after it is assigned lethal damage to activate an ability; however, if it is sacrificed before state-based actions are checked, the other creature will still die from lethal damage.\n",
      "\n",
      "2. **Explanation** – In Magic: The Gathering, when two 3/3 creatures deal damage to each other in combat, any creature that receives damage equal to or greater than its toughness is considered to have lethal damage. After the combat damage is dealt, state-based actions are checked, and any creature with lethal damage will be put into the graveyard. However, if you have an ability that allows you to sacrifice a creature (for example, an activated ability on another card that allows you to sacrifice a creature), you can choose to use that ability after damage has been dealt but before state-based actions are fully resolved. In that scenario, if you sacrifice your creature after it has received damage (but before it goes to the graveyard), it will not have any effect on whether the other creature survives since the lethal damage has already been assigned. The second creature, if it has also been assigned lethal damage, will still go to the graveyard when state-based actions are checked. \n",
      "\n",
      "3. **Sources** – The relevant rule here is 704.5g (if a creature has been dealt damage equal to its toughness, it is put into the graveyard as a state-based action). When you sacrifice a creature, it does not cancel the lethal damage already dealt, and state-based actions resolve after all combat damage is processed, leading to any creature with lethal damage going to the graveyard as per 704.5g.\n"
     ]
    }
   ],
   "source": [
    "question = \"in a combat between two 3/3 creatures, can I sac one of the creatures as a result of it taking letal damage to activate an ability? will it still kill the other creature?\"\n",
    "print(answer_question(question)) # right answer: No, you cannot sacrifice a creature that has been dealt lethal damage. You could sacrifice before assigning damage but the other creature would not receive damage."
   ]
  }
 ],
 "metadata": {
  "kernelspec": {
   "display_name": "Python 3",
   "language": "python",
   "name": "python3"
  },
  "language_info": {
   "codemirror_mode": {
    "name": "ipython",
    "version": 3
   },
   "file_extension": ".py",
   "mimetype": "text/x-python",
   "name": "python",
   "nbconvert_exporter": "python",
   "pygments_lexer": "ipython3",
   "version": "3.13.2"
  }
 },
 "nbformat": 4,
 "nbformat_minor": 5
}
